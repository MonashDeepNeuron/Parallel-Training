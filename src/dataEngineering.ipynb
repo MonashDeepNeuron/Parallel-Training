{
 "cells": [
  {
   "cell_type": "code",
   "execution_count": 12,
   "metadata": {},
   "outputs": [
    {
     "ename": "ModuleNotFoundError",
     "evalue": "No module named 'alpaca_trade_api'",
     "output_type": "error",
     "traceback": [
      "\u001b[0;31m---------------------------------------------------------------------------\u001b[0m",
      "\u001b[0;31mModuleNotFoundError\u001b[0m                       Traceback (most recent call last)",
      "Cell \u001b[0;32mIn[12], line 4\u001b[0m\n\u001b[1;32m      2\u001b[0m \u001b[38;5;28;01mfrom\u001b[39;00m \u001b[38;5;21;01malpaca\u001b[39;00m\u001b[38;5;21;01m.\u001b[39;00m\u001b[38;5;21;01mdata\u001b[39;00m\u001b[38;5;21;01m.\u001b[39;00m\u001b[38;5;21;01mrequests\u001b[39;00m \u001b[38;5;28;01mimport\u001b[39;00m StockBarsRequest\n\u001b[1;32m      3\u001b[0m \u001b[38;5;28;01mfrom\u001b[39;00m \u001b[38;5;21;01malpaca\u001b[39;00m\u001b[38;5;21;01m.\u001b[39;00m\u001b[38;5;21;01mdata\u001b[39;00m\u001b[38;5;21;01m.\u001b[39;00m\u001b[38;5;21;01mtimeframe\u001b[39;00m \u001b[38;5;28;01mimport\u001b[39;00m TimeFrame\n\u001b[0;32m----> 4\u001b[0m \u001b[38;5;28;01mimport\u001b[39;00m \u001b[38;5;21;01malpaca_trade_api\u001b[39;00m \u001b[38;5;28;01mas\u001b[39;00m \u001b[38;5;21;01mtradeapi\u001b[39;00m\n\u001b[1;32m      5\u001b[0m \u001b[38;5;28;01mimport\u001b[39;00m \u001b[38;5;21;01mpandas\u001b[39;00m \u001b[38;5;28;01mas\u001b[39;00m \u001b[38;5;21;01mpd\u001b[39;00m\n",
      "\u001b[0;31mModuleNotFoundError\u001b[0m: No module named 'alpaca_trade_api'"
     ]
    }
   ],
   "source": [
    "from alpaca.data.historical import StockHistoricalDataClient\n",
    "from alpaca.data.requests import StockBarsRequest\n",
    "from alpaca.data.timeframe import TimeFrame\n",
    "import alpaca_trade_api as tradeapi\n",
    "import pandas as pd"
   ]
  },
  {
   "cell_type": "code",
   "execution_count": null,
   "metadata": {},
   "outputs": [
    {
     "ename": "NameError",
     "evalue": "name 'apiKey' is not defined",
     "output_type": "error",
     "traceback": [
      "\u001b[0;31m---------------------------------------------------------------------------\u001b[0m",
      "\u001b[0;31mNameError\u001b[0m                                 Traceback (most recent call last)",
      "Cell \u001b[0;32mIn[2], line 8\u001b[0m\n\u001b[1;32m      1\u001b[0m request_params \u001b[38;5;241m=\u001b[39m StockBarsRequest(\n\u001b[1;32m      2\u001b[0m     symbol_or_symbols\u001b[38;5;241m=\u001b[39m\u001b[38;5;124m\"\u001b[39m\u001b[38;5;124mAAPL\u001b[39m\u001b[38;5;124m\"\u001b[39m,\n\u001b[1;32m      3\u001b[0m     start\u001b[38;5;241m=\u001b[39m\u001b[38;5;124m\"\u001b[39m\u001b[38;5;124m2014-01-01\u001b[39m\u001b[38;5;124m\"\u001b[39m,\n\u001b[1;32m      4\u001b[0m     end \u001b[38;5;241m=\u001b[39m \u001b[38;5;124m\"\u001b[39m\u001b[38;5;124m2024-12-12\u001b[39m\u001b[38;5;124m\"\u001b[39m,\n\u001b[1;32m      5\u001b[0m     timeframe\u001b[38;5;241m=\u001b[39mTimeFrame\u001b[38;5;241m.\u001b[39mMinute\n\u001b[1;32m      6\u001b[0m )\n\u001b[0;32m----> 8\u001b[0m client \u001b[38;5;241m=\u001b[39m StockHistoricalDataClient(api_key\u001b[38;5;241m=\u001b[39m\u001b[43mapiKey\u001b[49m, secret_key\u001b[38;5;241m=\u001b[39msecret, paper\u001b[38;5;241m=\u001b[39m\u001b[38;5;28;01mTrue\u001b[39;00m)\n\u001b[1;32m     10\u001b[0m bars \u001b[38;5;241m=\u001b[39m client\u001b[38;5;241m.\u001b[39mget_stock_bars(request_params)\n\u001b[1;32m     12\u001b[0m \u001b[38;5;28mprint\u001b[39m(bars)\n",
      "\u001b[0;31mNameError\u001b[0m: name 'apiKey' is not defined"
     ]
    }
   ],
   "source": [
    "apiKey = 'AKREF539HEBKQQ6OID3U'\n",
    "secret = 'q1ysWDHYs1oZVmxDqtIjmV9E4pMS8aEhobw7ihl0'\n",
    "\n",
    "# API credentials\n",
    "API_KEY = \"your_api_key\"\n",
    "API_SECRET = \"your_api_secret\"\n",
    "BASE_URL = \"https://paper-api.alpaca.markets\"  # Use this for paper trading\n",
    "\n",
    "# Initialize API\n",
    "api = tradeapi.REST(API_KEY, API_SECRET, BASE_URL, api_version='v2')\n",
    "\n",
    "# Get historical data\n",
    "barset = api.get_bars(\"AAPL\", \"day\", limit=5)  # 'minute', 'hour', or 'day'\n",
    "df = pd.DataFrame([bar.__dict__['_raw'] for bar in barset])\n",
    "\n",
    "print(df)\n"
   ]
  }
 ],
 "metadata": {
  "kernelspec": {
   "display_name": "rnn_development",
   "language": "python",
   "name": "python3"
  },
  "language_info": {
   "codemirror_mode": {
    "name": "ipython",
    "version": 3
   },
   "file_extension": ".py",
   "mimetype": "text/x-python",
   "name": "python",
   "nbconvert_exporter": "python",
   "pygments_lexer": "ipython3",
   "version": "3.11.0"
  }
 },
 "nbformat": 4,
 "nbformat_minor": 2
}
